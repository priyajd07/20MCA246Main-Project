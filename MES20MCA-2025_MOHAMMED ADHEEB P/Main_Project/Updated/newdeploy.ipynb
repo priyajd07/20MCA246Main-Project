{
 "cells": [
  {
   "cell_type": "code",
   "execution_count": 10,
   "id": "e15db4a5",
   "metadata": {},
   "outputs": [],
   "source": [
    "import pandas as pd \n",
    "import streamlit as st\n",
    "from pickle import load\n",
    "import seaborn as sns\n",
    "from pickle import dump\n",
    "import matplotlib.pyplot as plt\n",
    "from sklearn.svm import SVR\n",
    "from sklearn.model_selection import train_test_split"
   ]
  },
  {
   "cell_type": "code",
   "execution_count": 11,
   "id": "a8a8f497",
   "metadata": {},
   "outputs": [],
   "source": [
    "loaded_model=load(open('Ridge.sav','rb'))"
   ]
  },
  {
   "cell_type": "code",
   "execution_count": 12,
   "id": "074b9a43",
   "metadata": {},
   "outputs": [],
   "source": [
    "df=pd.read_csv(\"Ecommerce.csv\")\n",
    "df=df.drop(\"Customer ID\",axis=1)\n",
    "df=df.rename({'Avg Session length':'Avg_Session_length','Time on App':'Time_on_App','Time on Website':'Time_on_Website','Length of MemberShip':'Length_of_MemberShip','Yealy amount spent':'Yealy_amount_spent'},axis=1)"
   ]
  },
  {
   "cell_type": "code",
   "execution_count": 16,
   "id": "f1524eb1",
   "metadata": {},
   "outputs": [
    {
     "data": {
      "text/plain": [
       "DeltaGenerator(_root_container=0, _provided_cursor=None, _parent=None, _block_type=None, _form_data=None)"
      ]
     },
     "execution_count": 16,
     "metadata": {},
     "output_type": "execute_result"
    }
   ],
   "source": [
    "st.title('Model Deployment: Ridge Regressor')\n",
    "    "
   ]
  },
  {
   "cell_type": "code",
   "execution_count": 17,
   "id": "a10b384c",
   "metadata": {},
   "outputs": [],
   "source": [
    "view_data = st.checkbox('View Data')\n",
    "view_columns=st.checkbox('View features')\n",
    "if view_data:\n",
    "    st.write(df)\n",
    "if view_columns:\n",
    "    st.write(df.columns)"
   ]
  },
  {
   "cell_type": "code",
   "execution_count": 18,
   "id": "1bb704f5",
   "metadata": {},
   "outputs": [],
   "source": [
    "view=st.checkbox(\"Pairplot\")\n",
    "if view:  \n",
    "     st.pyplot(sns.pairplot(df))"
   ]
  },
  {
   "cell_type": "code",
   "execution_count": 19,
   "id": "55a0efe7",
   "metadata": {},
   "outputs": [],
   "source": [
    "def prediction(Avg_Session_length,Time_on_App,Time_on_Website,Length_of_MemberShip):  \n",
    "   \n",
    "    prediction = loaded_model.predict(\n",
    "        [[Avg_Session_length,Time_on_App,Time_on_Website,Length_of_MemberShip]])\n",
    "    print(prediction)\n",
    "    return prediction"
   ]
  },
  {
   "cell_type": "code",
   "execution_count": 20,
   "id": "e83f7b69",
   "metadata": {},
   "outputs": [],
   "source": [
    "def main():\n",
    "    html_temp = \"\"\"\n",
    "    <div style =\"background-color:yellow;padding:13px\">\n",
    "    <h1 style =\"color:black;text-align:center;\">Ecommerce Annual Income Prediction App </h1>\n",
    "    </div>\n",
    "    \"\"\"\n",
    "    st.markdown(html_temp, unsafe_allow_html = True)\n",
    "    \n",
    "    \n",
    "    \n",
    "    Avg_Session_length= st.text_input(\"Avg Session length\", \"\")\n",
    "    Time_on_App= st.text_input(\"Time on App\", \"\")\n",
    "    Time_on_Website= st.text_input(\"Time on Website\", \"\")\n",
    "    Length_of_MemberShip= st.text_input(\"Length of MemberShip\", \"\")\n",
    "    result =\"\"\n",
    "    \n",
    "    if st.button(\"Predict\"):\n",
    "        result = prediction(Avg_Session_length,Time_on_App,Time_on_Website,Length_of_MemberShip)\n",
    "    st.success('The output is {}'.format(result))\n",
    "if __name__=='__main__':\n",
    "    main()"
   ]
  }
 ],
 "metadata": {
  "kernelspec": {
   "display_name": "Python 3 (ipykernel)",
   "language": "python",
   "name": "python3"
  },
  "language_info": {
   "codemirror_mode": {
    "name": "ipython",
    "version": 3
   },
   "file_extension": ".py",
   "mimetype": "text/x-python",
   "name": "python",
   "nbconvert_exporter": "python",
   "pygments_lexer": "ipython3",
   "version": "3.9.12"
  }
 },
 "nbformat": 4,
 "nbformat_minor": 5
}
